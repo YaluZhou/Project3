{
 "cells": [
  {
   "cell_type": "markdown",
   "metadata": {},
   "source": [
    "# Can we predict COVID-19 severeness based on full blood panel?"
   ]
  },
  {
   "cell_type": "markdown",
   "metadata": {},
   "source": [
    "## Using machine learning models to predict COVID-19 severeness with full blood counts."
   ]
  },
  {
   "cell_type": "code",
   "execution_count": 1,
   "metadata": {},
   "outputs": [],
   "source": [
    "#import dependencies\n",
    "%matplotlib inline\n",
    "import matplotlib.pyplot as plt\n",
    "import pandas as pd\n",
    "import os\n",
    "import numpy as np\n",
    "from sklearn.ensemble import RandomForestClassifier\n",
    "from sklearn.preprocessing import StandardScaler"
   ]
  },
  {
   "cell_type": "markdown",
   "metadata": {},
   "source": [
    "### Import data from AWS"
   ]
  },
  {
   "cell_type": "code",
   "execution_count": 50,
   "metadata": {},
   "outputs": [
    {
     "data": {
      "text/html": [
       "<div>\n",
       "<style scoped>\n",
       "    .dataframe tbody tr th:only-of-type {\n",
       "        vertical-align: middle;\n",
       "    }\n",
       "\n",
       "    .dataframe tbody tr th {\n",
       "        vertical-align: top;\n",
       "    }\n",
       "\n",
       "    .dataframe thead th {\n",
       "        text-align: right;\n",
       "    }\n",
       "</style>\n",
       "<table border=\"1\" class=\"dataframe\">\n",
       "  <thead>\n",
       "    <tr style=\"text-align: right;\">\n",
       "      <th></th>\n",
       "      <th>Patient ID</th>\n",
       "      <th>Patient age quantile</th>\n",
       "      <th>SARS-Cov-2 exam result</th>\n",
       "      <th>Patient severeness</th>\n",
       "      <th>Hematocrit</th>\n",
       "      <th>Hemoglobin</th>\n",
       "      <th>Platelets</th>\n",
       "      <th>Mean platelet volume</th>\n",
       "      <th>Red blood Cells</th>\n",
       "      <th>Lymphocytes</th>\n",
       "      <th>Mean corpuscular hemoglobin concentrationÊ(MCHC)</th>\n",
       "      <th>Leukocytes</th>\n",
       "      <th>Basophils</th>\n",
       "      <th>Mean corpuscular hemoglobin (MCH)</th>\n",
       "      <th>Eosinophils</th>\n",
       "      <th>Mean corpuscular volume (MCV)</th>\n",
       "      <th>Monocytes</th>\n",
       "      <th>Red blood cell distribution width (RDW)</th>\n",
       "      <th>Serum Glucose</th>\n",
       "    </tr>\n",
       "  </thead>\n",
       "  <tbody>\n",
       "    <tr>\n",
       "      <th>0</th>\n",
       "      <td>0e80d061536740a</td>\n",
       "      <td>10</td>\n",
       "      <td>negative</td>\n",
       "      <td>0</td>\n",
       "      <td>-0.427254</td>\n",
       "      <td>-0.648900</td>\n",
       "      <td>0.311666</td>\n",
       "      <td>-0.438097</td>\n",
       "      <td>-1.414206</td>\n",
       "      <td>0.369540</td>\n",
       "      <td>-1.050367</td>\n",
       "      <td>-0.598296</td>\n",
       "      <td>0.998070</td>\n",
       "      <td>1.746323</td>\n",
       "      <td>-0.119138</td>\n",
       "      <td>2.529679</td>\n",
       "      <td>-0.299034</td>\n",
       "      <td>1.144057</td>\n",
       "      <td>-1.109751</td>\n",
       "    </tr>\n",
       "    <tr>\n",
       "      <th>1</th>\n",
       "      <td>1205a978ff0ef00</td>\n",
       "      <td>12</td>\n",
       "      <td>negative</td>\n",
       "      <td>0</td>\n",
       "      <td>-0.404364</td>\n",
       "      <td>-0.523588</td>\n",
       "      <td>-0.592784</td>\n",
       "      <td>-0.550290</td>\n",
       "      <td>-0.409276</td>\n",
       "      <td>0.036907</td>\n",
       "      <td>-0.552476</td>\n",
       "      <td>0.030615</td>\n",
       "      <td>-0.834685</td>\n",
       "      <td>-0.239998</td>\n",
       "      <td>1.102904</td>\n",
       "      <td>0.046015</td>\n",
       "      <td>0.909074</td>\n",
       "      <td>0.524862</td>\n",
       "      <td>-1.049182</td>\n",
       "    </tr>\n",
       "    <tr>\n",
       "      <th>2</th>\n",
       "      <td>0c6359f77661e20</td>\n",
       "      <td>16</td>\n",
       "      <td>negative</td>\n",
       "      <td>0</td>\n",
       "      <td>0.373847</td>\n",
       "      <td>0.102972</td>\n",
       "      <td>1.216117</td>\n",
       "      <td>-0.438097</td>\n",
       "      <td>-0.532689</td>\n",
       "      <td>0.198959</td>\n",
       "      <td>-0.950790</td>\n",
       "      <td>-0.448025</td>\n",
       "      <td>-0.223767</td>\n",
       "      <td>1.223607</td>\n",
       "      <td>-0.582671</td>\n",
       "      <td>1.868705</td>\n",
       "      <td>-0.955614</td>\n",
       "      <td>-0.536617</td>\n",
       "      <td>-1.049182</td>\n",
       "    </tr>\n",
       "    <tr>\n",
       "      <th>3</th>\n",
       "      <td>e91eeb27adfea76</td>\n",
       "      <td>1</td>\n",
       "      <td>negative</td>\n",
       "      <td>0</td>\n",
       "      <td>-0.175479</td>\n",
       "      <td>-0.084996</td>\n",
       "      <td>1.052813</td>\n",
       "      <td>0.571643</td>\n",
       "      <td>0.207786</td>\n",
       "      <td>0.318366</td>\n",
       "      <td>0.343725</td>\n",
       "      <td>-0.865444</td>\n",
       "      <td>0.081693</td>\n",
       "      <td>-0.553627</td>\n",
       "      <td>-0.414114</td>\n",
       "      <td>-0.795227</td>\n",
       "      <td>0.804021</td>\n",
       "      <td>-0.978899</td>\n",
       "      <td>-1.049182</td>\n",
       "    </tr>\n",
       "    <tr>\n",
       "      <th>4</th>\n",
       "      <td>ab9745da9d139b9</td>\n",
       "      <td>15</td>\n",
       "      <td>positive</td>\n",
       "      <td>2</td>\n",
       "      <td>-0.495919</td>\n",
       "      <td>-0.398276</td>\n",
       "      <td>-0.718402</td>\n",
       "      <td>-0.438097</td>\n",
       "      <td>-0.567950</td>\n",
       "      <td>-0.935404</td>\n",
       "      <td>0.244149</td>\n",
       "      <td>-0.820919</td>\n",
       "      <td>-1.140144</td>\n",
       "      <td>0.334989</td>\n",
       "      <td>-0.666950</td>\n",
       "      <td>0.226280</td>\n",
       "      <td>-0.456613</td>\n",
       "      <td>-0.978899</td>\n",
       "      <td>-0.928044</td>\n",
       "    </tr>\n",
       "  </tbody>\n",
       "</table>\n",
       "</div>"
      ],
      "text/plain": [
       "        Patient ID  Patient age quantile SARS-Cov-2 exam result  \\\n",
       "0  0e80d061536740a                    10               negative   \n",
       "1  1205a978ff0ef00                    12               negative   \n",
       "2  0c6359f77661e20                    16               negative   \n",
       "3  e91eeb27adfea76                     1               negative   \n",
       "4  ab9745da9d139b9                    15               positive   \n",
       "\n",
       "   Patient severeness  Hematocrit  Hemoglobin  Platelets  \\\n",
       "0                   0   -0.427254   -0.648900   0.311666   \n",
       "1                   0   -0.404364   -0.523588  -0.592784   \n",
       "2                   0    0.373847    0.102972   1.216117   \n",
       "3                   0   -0.175479   -0.084996   1.052813   \n",
       "4                   2   -0.495919   -0.398276  -0.718402   \n",
       "\n",
       "   Mean platelet volume   Red blood Cells  Lymphocytes  \\\n",
       "0              -0.438097        -1.414206     0.369540   \n",
       "1              -0.550290        -0.409276     0.036907   \n",
       "2              -0.438097        -0.532689     0.198959   \n",
       "3               0.571643         0.207786     0.318366   \n",
       "4              -0.438097        -0.567950    -0.935404   \n",
       "\n",
       "   Mean corpuscular hemoglobin concentrationÊ(MCHC)  Leukocytes  Basophils  \\\n",
       "0                                         -1.050367   -0.598296   0.998070   \n",
       "1                                         -0.552476    0.030615  -0.834685   \n",
       "2                                         -0.950790   -0.448025  -0.223767   \n",
       "3                                          0.343725   -0.865444   0.081693   \n",
       "4                                          0.244149   -0.820919  -1.140144   \n",
       "\n",
       "   Mean corpuscular hemoglobin (MCH)  Eosinophils  \\\n",
       "0                           1.746323    -0.119138   \n",
       "1                          -0.239998     1.102904   \n",
       "2                           1.223607    -0.582671   \n",
       "3                          -0.553627    -0.414114   \n",
       "4                           0.334989    -0.666950   \n",
       "\n",
       "   Mean corpuscular volume (MCV)  Monocytes  \\\n",
       "0                       2.529679  -0.299034   \n",
       "1                       0.046015   0.909074   \n",
       "2                       1.868705  -0.955614   \n",
       "3                      -0.795227   0.804021   \n",
       "4                       0.226280  -0.456613   \n",
       "\n",
       "   Red blood cell distribution width (RDW)  Serum Glucose  \n",
       "0                                 1.144057      -1.109751  \n",
       "1                                 0.524862      -1.049182  \n",
       "2                                -0.536617      -1.049182  \n",
       "3                                -0.978899      -1.049182  \n",
       "4                                -0.978899      -0.928044  "
      ]
     },
     "execution_count": 50,
     "metadata": {},
     "output_type": "execute_result"
    }
   ],
   "source": [
    "# Load the COVID-19 blood data\n",
    "blood_url = \"COVID-19_patients_full_blood_counts_with_glucose.csv\"\n",
    "blood_df = pd.read_csv(blood_url,encoding =  \"ISO-8859-1\")\n",
    "blood_df.head()"
   ]
  },
  {
   "cell_type": "code",
   "execution_count": 51,
   "metadata": {},
   "outputs": [
    {
     "data": {
      "text/html": [
       "<div>\n",
       "<style scoped>\n",
       "    .dataframe tbody tr th:only-of-type {\n",
       "        vertical-align: middle;\n",
       "    }\n",
       "\n",
       "    .dataframe tbody tr th {\n",
       "        vertical-align: top;\n",
       "    }\n",
       "\n",
       "    .dataframe thead th {\n",
       "        text-align: right;\n",
       "    }\n",
       "</style>\n",
       "<table border=\"1\" class=\"dataframe\">\n",
       "  <thead>\n",
       "    <tr style=\"text-align: right;\">\n",
       "      <th></th>\n",
       "      <th>Patient age quantile</th>\n",
       "      <th>SARS-Cov-2 exam result</th>\n",
       "      <th>Patient severeness</th>\n",
       "      <th>Hematocrit</th>\n",
       "      <th>Hemoglobin</th>\n",
       "      <th>Platelets</th>\n",
       "      <th>Mean platelet volume</th>\n",
       "      <th>Red blood Cells</th>\n",
       "      <th>Lymphocytes</th>\n",
       "      <th>Mean corpuscular hemoglobin concentrationÊ(MCHC)</th>\n",
       "      <th>Leukocytes</th>\n",
       "      <th>Basophils</th>\n",
       "      <th>Mean corpuscular hemoglobin (MCH)</th>\n",
       "      <th>Eosinophils</th>\n",
       "      <th>Mean corpuscular volume (MCV)</th>\n",
       "      <th>Monocytes</th>\n",
       "      <th>Red blood cell distribution width (RDW)</th>\n",
       "      <th>Serum Glucose</th>\n",
       "    </tr>\n",
       "  </thead>\n",
       "  <tbody>\n",
       "    <tr>\n",
       "      <th>0</th>\n",
       "      <td>10</td>\n",
       "      <td>negative</td>\n",
       "      <td>0</td>\n",
       "      <td>-0.427254</td>\n",
       "      <td>-0.648900</td>\n",
       "      <td>0.311666</td>\n",
       "      <td>-0.438097</td>\n",
       "      <td>-1.414206</td>\n",
       "      <td>0.369540</td>\n",
       "      <td>-1.050367</td>\n",
       "      <td>-0.598296</td>\n",
       "      <td>0.998070</td>\n",
       "      <td>1.746323</td>\n",
       "      <td>-0.119138</td>\n",
       "      <td>2.529679</td>\n",
       "      <td>-0.299034</td>\n",
       "      <td>1.144057</td>\n",
       "      <td>-1.109751</td>\n",
       "    </tr>\n",
       "    <tr>\n",
       "      <th>1</th>\n",
       "      <td>12</td>\n",
       "      <td>negative</td>\n",
       "      <td>0</td>\n",
       "      <td>-0.404364</td>\n",
       "      <td>-0.523588</td>\n",
       "      <td>-0.592784</td>\n",
       "      <td>-0.550290</td>\n",
       "      <td>-0.409276</td>\n",
       "      <td>0.036907</td>\n",
       "      <td>-0.552476</td>\n",
       "      <td>0.030615</td>\n",
       "      <td>-0.834685</td>\n",
       "      <td>-0.239998</td>\n",
       "      <td>1.102904</td>\n",
       "      <td>0.046015</td>\n",
       "      <td>0.909074</td>\n",
       "      <td>0.524862</td>\n",
       "      <td>-1.049182</td>\n",
       "    </tr>\n",
       "    <tr>\n",
       "      <th>2</th>\n",
       "      <td>16</td>\n",
       "      <td>negative</td>\n",
       "      <td>0</td>\n",
       "      <td>0.373847</td>\n",
       "      <td>0.102972</td>\n",
       "      <td>1.216117</td>\n",
       "      <td>-0.438097</td>\n",
       "      <td>-0.532689</td>\n",
       "      <td>0.198959</td>\n",
       "      <td>-0.950790</td>\n",
       "      <td>-0.448025</td>\n",
       "      <td>-0.223767</td>\n",
       "      <td>1.223607</td>\n",
       "      <td>-0.582671</td>\n",
       "      <td>1.868705</td>\n",
       "      <td>-0.955614</td>\n",
       "      <td>-0.536617</td>\n",
       "      <td>-1.049182</td>\n",
       "    </tr>\n",
       "    <tr>\n",
       "      <th>3</th>\n",
       "      <td>1</td>\n",
       "      <td>negative</td>\n",
       "      <td>0</td>\n",
       "      <td>-0.175479</td>\n",
       "      <td>-0.084996</td>\n",
       "      <td>1.052813</td>\n",
       "      <td>0.571643</td>\n",
       "      <td>0.207786</td>\n",
       "      <td>0.318366</td>\n",
       "      <td>0.343725</td>\n",
       "      <td>-0.865444</td>\n",
       "      <td>0.081693</td>\n",
       "      <td>-0.553627</td>\n",
       "      <td>-0.414114</td>\n",
       "      <td>-0.795227</td>\n",
       "      <td>0.804021</td>\n",
       "      <td>-0.978899</td>\n",
       "      <td>-1.049182</td>\n",
       "    </tr>\n",
       "    <tr>\n",
       "      <th>4</th>\n",
       "      <td>15</td>\n",
       "      <td>positive</td>\n",
       "      <td>2</td>\n",
       "      <td>-0.495919</td>\n",
       "      <td>-0.398276</td>\n",
       "      <td>-0.718402</td>\n",
       "      <td>-0.438097</td>\n",
       "      <td>-0.567950</td>\n",
       "      <td>-0.935404</td>\n",
       "      <td>0.244149</td>\n",
       "      <td>-0.820919</td>\n",
       "      <td>-1.140144</td>\n",
       "      <td>0.334989</td>\n",
       "      <td>-0.666950</td>\n",
       "      <td>0.226280</td>\n",
       "      <td>-0.456613</td>\n",
       "      <td>-0.978899</td>\n",
       "      <td>-0.928044</td>\n",
       "    </tr>\n",
       "  </tbody>\n",
       "</table>\n",
       "</div>"
      ],
      "text/plain": [
       "   Patient age quantile SARS-Cov-2 exam result  Patient severeness  \\\n",
       "0                    10               negative                   0   \n",
       "1                    12               negative                   0   \n",
       "2                    16               negative                   0   \n",
       "3                     1               negative                   0   \n",
       "4                    15               positive                   2   \n",
       "\n",
       "   Hematocrit  Hemoglobin  Platelets  Mean platelet volume   Red blood Cells  \\\n",
       "0   -0.427254   -0.648900   0.311666              -0.438097        -1.414206   \n",
       "1   -0.404364   -0.523588  -0.592784              -0.550290        -0.409276   \n",
       "2    0.373847    0.102972   1.216117              -0.438097        -0.532689   \n",
       "3   -0.175479   -0.084996   1.052813               0.571643         0.207786   \n",
       "4   -0.495919   -0.398276  -0.718402              -0.438097        -0.567950   \n",
       "\n",
       "   Lymphocytes  Mean corpuscular hemoglobin concentrationÊ(MCHC)  Leukocytes  \\\n",
       "0     0.369540                                         -1.050367   -0.598296   \n",
       "1     0.036907                                         -0.552476    0.030615   \n",
       "2     0.198959                                         -0.950790   -0.448025   \n",
       "3     0.318366                                          0.343725   -0.865444   \n",
       "4    -0.935404                                          0.244149   -0.820919   \n",
       "\n",
       "   Basophils  Mean corpuscular hemoglobin (MCH)  Eosinophils  \\\n",
       "0   0.998070                           1.746323    -0.119138   \n",
       "1  -0.834685                          -0.239998     1.102904   \n",
       "2  -0.223767                           1.223607    -0.582671   \n",
       "3   0.081693                          -0.553627    -0.414114   \n",
       "4  -1.140144                           0.334989    -0.666950   \n",
       "\n",
       "   Mean corpuscular volume (MCV)  Monocytes  \\\n",
       "0                       2.529679  -0.299034   \n",
       "1                       0.046015   0.909074   \n",
       "2                       1.868705  -0.955614   \n",
       "3                      -0.795227   0.804021   \n",
       "4                       0.226280  -0.456613   \n",
       "\n",
       "   Red blood cell distribution width (RDW)  Serum Glucose  \n",
       "0                                 1.144057      -1.109751  \n",
       "1                                 0.524862      -1.049182  \n",
       "2                                -0.536617      -1.049182  \n",
       "3                                -0.978899      -1.049182  \n",
       "4                                -0.978899      -0.928044  "
      ]
     },
     "execution_count": 51,
     "metadata": {},
     "output_type": "execute_result"
    }
   ],
   "source": [
    "# Delete patient ID column\n",
    "blood_df = blood_df.drop(['Patient ID'], axis=1)\n",
    "blood_df.head()"
   ]
  },
  {
   "cell_type": "markdown",
   "metadata": {},
   "source": [
    "### Test different machine learning models"
   ]
  },
  {
   "cell_type": "code",
   "execution_count": 52,
   "metadata": {},
   "outputs": [],
   "source": [
    "# Define the feature and target\n",
    "X = blood_df.drop(['SARS-Cov-2 exam result', 'Patient severeness'], axis=1)\n",
    "y = blood_df['Patient severeness']"
   ]
  },
  {
   "cell_type": "markdown",
   "metadata": {},
   "source": [
    "### Logitic Regression Model"
   ]
  },
  {
   "cell_type": "code",
   "execution_count": 53,
   "metadata": {},
   "outputs": [],
   "source": [
    "# Split the dataset to training and testing subsets\n",
    "from sklearn.model_selection import train_test_split\n",
    "X_train, X_test, y_train, y_test = train_test_split(X, y, random_state=1)"
   ]
  },
  {
   "cell_type": "code",
   "execution_count": 7,
   "metadata": {},
   "outputs": [
    {
     "data": {
      "text/plain": [
       "LogisticRegression(C=1.0, class_weight=None, dual=False, fit_intercept=True,\n",
       "                   intercept_scaling=1, l1_ratio=None, max_iter=100,\n",
       "                   multi_class='auto', n_jobs=None, penalty='l2',\n",
       "                   random_state=None, solver='lbfgs', tol=0.0001, verbose=0,\n",
       "                   warm_start=False)"
      ]
     },
     "execution_count": 7,
     "metadata": {},
     "output_type": "execute_result"
    }
   ],
   "source": [
    "#Create a Logistic Regression Model\n",
    "from sklearn.linear_model import LogisticRegression\n",
    "classifier = LogisticRegression()\n",
    "classifier"
   ]
  },
  {
   "cell_type": "code",
   "execution_count": 8,
   "metadata": {},
   "outputs": [
    {
     "name": "stderr",
     "output_type": "stream",
     "text": [
      "/opt/anaconda3/lib/python3.7/site-packages/sklearn/linear_model/_logistic.py:940: ConvergenceWarning: lbfgs failed to converge (status=1):\n",
      "STOP: TOTAL NO. of ITERATIONS REACHED LIMIT.\n",
      "\n",
      "Increase the number of iterations (max_iter) or scale the data as shown in:\n",
      "    https://scikit-learn.org/stable/modules/preprocessing.html\n",
      "Please also refer to the documentation for alternative solver options:\n",
      "    https://scikit-learn.org/stable/modules/linear_model.html#logistic-regression\n",
      "  extra_warning_msg=_LOGISTIC_SOLVER_CONVERGENCE_MSG)\n"
     ]
    },
    {
     "data": {
      "text/plain": [
       "LogisticRegression(C=1.0, class_weight=None, dual=False, fit_intercept=True,\n",
       "                   intercept_scaling=1, l1_ratio=None, max_iter=100,\n",
       "                   multi_class='auto', n_jobs=None, penalty='l2',\n",
       "                   random_state=None, solver='lbfgs', tol=0.0001, verbose=0,\n",
       "                   warm_start=False)"
      ]
     },
     "execution_count": 8,
     "metadata": {},
     "output_type": "execute_result"
    }
   ],
   "source": [
    "#Fit (train) or model using the training data\n",
    "classifier.fit(X_train, y_train)"
   ]
  },
  {
   "cell_type": "code",
   "execution_count": 13,
   "metadata": {},
   "outputs": [
    {
     "name": "stdout",
     "output_type": "stream",
     "text": [
      "Training data score of the logistic regression model: 0.8\n",
      "Testing data score of the logistic regression model: 0.6346153846153846\n"
     ]
    }
   ],
   "source": [
    "#Validate the model using the test data\n",
    "print(f\"Training data score of the logistic regression model: {classifier.score(X_train, y_train)}\")\n",
    "print(f\"Testing data score of the logistic regression model: {classifier.score(X_test, y_test)}\")"
   ]
  },
  {
   "cell_type": "markdown",
   "metadata": {},
   "source": [
    "### Decision Trees Model"
   ]
  },
  {
   "cell_type": "code",
   "execution_count": 10,
   "metadata": {},
   "outputs": [],
   "source": [
    "from sklearn import tree"
   ]
  },
  {
   "cell_type": "code",
   "execution_count": 11,
   "metadata": {},
   "outputs": [],
   "source": [
    "# Create and score a decision tree classifier\n",
    "clf = tree.DecisionTreeClassifier()\n",
    "clf = clf.fit(X_train, y_train)"
   ]
  },
  {
   "cell_type": "code",
   "execution_count": 14,
   "metadata": {},
   "outputs": [
    {
     "name": "stdout",
     "output_type": "stream",
     "text": [
      "Training data score of the decision trees model: 1.0\n",
      "Testing data score of the decision trees model: 0.75\n"
     ]
    }
   ],
   "source": [
    "print(f\"Training data score of the decision trees model: {clf.score(X_train, y_train)}\")\n",
    "print(f\"Testing data score of the decision trees model: {clf.score(X_test, y_test)}\")"
   ]
  },
  {
   "cell_type": "markdown",
   "metadata": {},
   "source": [
    "### Random Forest Model"
   ]
  },
  {
   "cell_type": "code",
   "execution_count": 54,
   "metadata": {},
   "outputs": [],
   "source": [
    "# Create a random forest classifier\n",
    "rf = RandomForestClassifier(n_estimators=200)\n",
    "rf = rf.fit(X_train, y_train)"
   ]
  },
  {
   "cell_type": "code",
   "execution_count": 55,
   "metadata": {},
   "outputs": [
    {
     "name": "stdout",
     "output_type": "stream",
     "text": [
      "Training data score of the random forest model: 1.0\n",
      "Testing data score of the random forest model: 0.7884615384615384\n"
     ]
    }
   ],
   "source": [
    "print(f\"Training data score of the random forest model: {rf.score(X_train, y_train)}\")\n",
    "print(f\"Testing data score of the random forest model: {rf.score(X_test, y_test)}\")"
   ]
  },
  {
   "cell_type": "code",
   "execution_count": 56,
   "metadata": {},
   "outputs": [
    {
     "data": {
      "text/plain": [
       "[(0.04135160342980108, 'Patient age quantile'),\n",
       " (0.06438629890887634, 'Hematocrit'),\n",
       " (0.07526265052927236, 'Hemoglobin'),\n",
       " (0.06486572897890557, 'Platelets'),\n",
       " (0.24005280895732325, 'Mean platelet volume '),\n",
       " (0.06278389797275855, 'Red blood Cells'),\n",
       " (0.041498484251968795, 'Lymphocytes'),\n",
       " (0.042902306076418595, 'Mean corpuscular hemoglobin concentrationÊ(MCHC)'),\n",
       " (0.04543140276168288, 'Leukocytes'),\n",
       " (0.03270405097192204, 'Basophils'),\n",
       " (0.040918897873149285, 'Mean corpuscular hemoglobin (MCH)'),\n",
       " (0.049749257269160845, 'Eosinophils'),\n",
       " (0.05572030319233077, 'Mean corpuscular volume (MCV)'),\n",
       " (0.042662974301994804, 'Monocytes'),\n",
       " (0.048527822706202574, 'Red blood cell distribution width (RDW)'),\n",
       " (0.0511815118182324, 'Serum Glucose')]"
      ]
     },
     "execution_count": 56,
     "metadata": {},
     "output_type": "execute_result"
    }
   ],
   "source": [
    "# Check the feature importance\n",
    "importances = rf.feature_importances_\n",
    "importances\n",
    "\n",
    "[x for x in zip(rf.feature_importances_, X.columns)]"
   ]
  },
  {
   "cell_type": "code",
   "execution_count": 19,
   "metadata": {},
   "outputs": [
    {
     "name": "stdout",
     "output_type": "stream",
     "text": [
      "The whole dataset score of the random forest model: 0.9371980676328503\n"
     ]
    }
   ],
   "source": [
    "# Check the whole set score\n",
    "print(f\"The whole dataset score of the random forest model: {rf.score(X, y)}\")"
   ]
  },
  {
   "cell_type": "markdown",
   "metadata": {},
   "source": [
    "### Plot confusion matrix"
   ]
  },
  {
   "cell_type": "code",
   "execution_count": 36,
   "metadata": {},
   "outputs": [],
   "source": [
    "#import confusion matrix function\n",
    "from sklearn.metrics import plot_confusion_matrix"
   ]
  },
  {
   "cell_type": "code",
   "execution_count": 57,
   "metadata": {},
   "outputs": [
    {
     "name": "stdout",
     "output_type": "stream",
     "text": [
      "Non-normalized Confusion Matrix\n",
      "[[37  0  2]\n",
      " [ 1  4  0]\n",
      " [ 8  0  0]]\n"
     ]
    },
    {
     "data": {
      "image/png": "[encoded data removed]",
      "text/plain": [
       "<Figure size 432x288 with 2 Axes>"
      ]
     },
     "metadata": {
      "needs_background": "light"
     },
     "output_type": "display_data"
    }
   ],
   "source": [
    "disp = plot_confusion_matrix(rf, X_test, y_test,\n",
    "                                 display_labels=class_names,\n",
    "                                 cmap=plt.cm.Blues)\n",
    "disp.ax_.set_title(\"Non-normalized Confusion Matrix\")\n",
    "\n",
    "print(\"Non-normalized Confusion Matrix\")\n",
    "print(disp.confusion_matrix)\n",
    "\n",
    "plt.show()"
   ]
  },
  {
   "cell_type": "markdown",
   "metadata": {},
   "source": [
    "## Using machine learning models to predict COVID-19 severeness with serum glucose level."
   ]
  },
  {
   "cell_type": "markdown",
   "metadata": {},
   "source": [
    "### Import data from AWS"
   ]
  },
  {
   "cell_type": "code",
   "execution_count": 20,
   "metadata": {},
   "outputs": [
    {
     "data": {
      "text/html": [
       "<div>\n",
       "<style scoped>\n",
       "    .dataframe tbody tr th:only-of-type {\n",
       "        vertical-align: middle;\n",
       "    }\n",
       "\n",
       "    .dataframe tbody tr th {\n",
       "        vertical-align: top;\n",
       "    }\n",
       "\n",
       "    .dataframe thead th {\n",
       "        text-align: right;\n",
       "    }\n",
       "</style>\n",
       "<table border=\"1\" class=\"dataframe\">\n",
       "  <thead>\n",
       "    <tr style=\"text-align: right;\">\n",
       "      <th></th>\n",
       "      <th>Patient ID</th>\n",
       "      <th>Patient age quantile</th>\n",
       "      <th>SARS-Cov-2 exam result</th>\n",
       "      <th>Patient Severeness</th>\n",
       "      <th>Serum Glucose</th>\n",
       "    </tr>\n",
       "  </thead>\n",
       "  <tbody>\n",
       "    <tr>\n",
       "      <th>0</th>\n",
       "      <td>527e4115cf86b6b</td>\n",
       "      <td>14</td>\n",
       "      <td>negative</td>\n",
       "      <td>intensive care</td>\n",
       "      <td>-0.352639</td>\n",
       "    </tr>\n",
       "    <tr>\n",
       "      <th>1</th>\n",
       "      <td>a4b2116e0689f54</td>\n",
       "      <td>0</td>\n",
       "      <td>negative</td>\n",
       "      <td>intensive care</td>\n",
       "      <td>-0.322355</td>\n",
       "    </tr>\n",
       "    <tr>\n",
       "      <th>2</th>\n",
       "      <td>8733b5587ba412f</td>\n",
       "      <td>19</td>\n",
       "      <td>negative</td>\n",
       "      <td>intensive care</td>\n",
       "      <td>-0.170933</td>\n",
       "    </tr>\n",
       "    <tr>\n",
       "      <th>3</th>\n",
       "      <td>0edc1a366792b62</td>\n",
       "      <td>0</td>\n",
       "      <td>negative</td>\n",
       "      <td>intensive care</td>\n",
       "      <td>0.192481</td>\n",
       "    </tr>\n",
       "    <tr>\n",
       "      <th>4</th>\n",
       "      <td>d9c2385bfe97417</td>\n",
       "      <td>19</td>\n",
       "      <td>negative</td>\n",
       "      <td>intensive care</td>\n",
       "      <td>0.343903</td>\n",
       "    </tr>\n",
       "  </tbody>\n",
       "</table>\n",
       "</div>"
      ],
      "text/plain": [
       "        Patient ID  Patient age quantile SARS-Cov-2 exam result  \\\n",
       "0  527e4115cf86b6b                    14               negative   \n",
       "1  a4b2116e0689f54                     0               negative   \n",
       "2  8733b5587ba412f                    19               negative   \n",
       "3  0edc1a366792b62                     0               negative   \n",
       "4  d9c2385bfe97417                    19               negative   \n",
       "\n",
       "  Patient Severeness  Serum Glucose  \n",
       "0     intensive care      -0.352639  \n",
       "1     intensive care      -0.322355  \n",
       "2     intensive care      -0.170933  \n",
       "3     intensive care       0.192481  \n",
       "4     intensive care       0.343903  "
      ]
     },
     "execution_count": 20,
     "metadata": {},
     "output_type": "execute_result"
    }
   ],
   "source": [
    "# Load the COVID-19 glucose data\n",
    "url = \"COVID-19_patients_serum_glucose.csv\"\n",
    "glucose_df = pd.read_csv(url)\n",
    "glucose_df.head()"
   ]
  },
  {
   "cell_type": "code",
   "execution_count": 21,
   "metadata": {},
   "outputs": [
    {
     "name": "stdout",
     "output_type": "stream",
     "text": [
      "(208, 2) (208,)\n"
     ]
    }
   ],
   "source": [
    "# Define the feature and target\n",
    "X = glucose_df[[\"Patient age quantile\", \"Serum Glucose\"]]\n",
    "y = glucose_df[\"Patient Severeness\"]\n",
    "print(X.shape, y.shape)"
   ]
  },
  {
   "cell_type": "code",
   "execution_count": 22,
   "metadata": {},
   "outputs": [],
   "source": [
    "# Split the dataset to training and testing subsets\n",
    "X_train, X_test, y_train, y_test = train_test_split(X, y, random_state=1)"
   ]
  },
  {
   "cell_type": "markdown",
   "metadata": {},
   "source": [
    "### Logitic Regression Model"
   ]
  },
  {
   "cell_type": "code",
   "execution_count": 23,
   "metadata": {},
   "outputs": [
    {
     "data": {
      "text/plain": [
       "LogisticRegression(C=1.0, class_weight=None, dual=False, fit_intercept=True,\n",
       "                   intercept_scaling=1, l1_ratio=None, max_iter=100,\n",
       "                   multi_class='auto', n_jobs=None, penalty='l2',\n",
       "                   random_state=None, solver='lbfgs', tol=0.0001, verbose=0,\n",
       "                   warm_start=False)"
      ]
     },
     "execution_count": 23,
     "metadata": {},
     "output_type": "execute_result"
    }
   ],
   "source": [
    "# Setup logistic regression model\n",
    "classifier = LogisticRegression()\n",
    "classifier"
   ]
  },
  {
   "cell_type": "code",
   "execution_count": 24,
   "metadata": {},
   "outputs": [
    {
     "data": {
      "text/plain": [
       "LogisticRegression(C=1.0, class_weight=None, dual=False, fit_intercept=True,\n",
       "                   intercept_scaling=1, l1_ratio=None, max_iter=100,\n",
       "                   multi_class='auto', n_jobs=None, penalty='l2',\n",
       "                   random_state=None, solver='lbfgs', tol=0.0001, verbose=0,\n",
       "                   warm_start=False)"
      ]
     },
     "execution_count": 24,
     "metadata": {},
     "output_type": "execute_result"
    }
   ],
   "source": [
    "# Use training set to fit the model\n",
    "classifier.fit(X_train, y_train)"
   ]
  },
  {
   "cell_type": "code",
   "execution_count": 26,
   "metadata": {},
   "outputs": [
    {
     "name": "stdout",
     "output_type": "stream",
     "text": [
      "Training data score of the logistic regression model: 0.7307692307692307\n",
      "Testing data score of the logistic regression model: 0.6538461538461539\n"
     ]
    }
   ],
   "source": [
    "# Print the score for both training and testing sets\n",
    "print(f\"Training data score of the logistic regression model: {classifier.score(X_train, y_train)}\")\n",
    "print(f\"Testing data score of the logistic regression model: {classifier.score(X_test, y_test)}\")"
   ]
  },
  {
   "cell_type": "markdown",
   "metadata": {},
   "source": [
    "### Decision Trees Model"
   ]
  },
  {
   "cell_type": "code",
   "execution_count": 27,
   "metadata": {},
   "outputs": [],
   "source": [
    "# Create and score a decision tree classifier\n",
    "clf = tree.DecisionTreeClassifier()\n",
    "clf = clf.fit(X_train, y_train)"
   ]
  },
  {
   "cell_type": "code",
   "execution_count": 28,
   "metadata": {},
   "outputs": [
    {
     "name": "stdout",
     "output_type": "stream",
     "text": [
      "Training data score of the decision trees model: 0.967948717948718\n",
      "Testing data score of the decision trees model: 0.5384615384615384\n"
     ]
    }
   ],
   "source": [
    "print(f\"Training data score of the decision trees model: {clf.score(X_train, y_train)}\")\n",
    "print(f\"Testing data score of the decision trees model: {clf.score(X_test, y_test)}\")"
   ]
  },
  {
   "cell_type": "markdown",
   "metadata": {},
   "source": [
    "### Random Forest Model"
   ]
  },
  {
   "cell_type": "code",
   "execution_count": 29,
   "metadata": {},
   "outputs": [],
   "source": [
    "# Create a random forest classifier\n",
    "rf = RandomForestClassifier(n_estimators=200)\n",
    "rf = rf.fit(X_train, y_train)"
   ]
  },
  {
   "cell_type": "code",
   "execution_count": 30,
   "metadata": {},
   "outputs": [
    {
     "name": "stdout",
     "output_type": "stream",
     "text": [
      "Training data score of the random forest model: 0.967948717948718\n",
      "Testing data score of the random forest model: 0.5769230769230769\n"
     ]
    }
   ],
   "source": [
    "print(f\"Training data score of the random forest model: {rf.score(X_train, y_train)}\")\n",
    "print(f\"Testing data score of the random forest model: {rf.score(X_test, y_test)}\")"
   ]
  },
  {
   "cell_type": "code",
   "execution_count": 31,
   "metadata": {},
   "outputs": [
    {
     "data": {
      "text/plain": [
       "[(0.38511814455087423, 'Patient age quantile'),\n",
       " (0.6148818554491258, 'Serum Glucose')]"
      ]
     },
     "execution_count": 31,
     "metadata": {},
     "output_type": "execute_result"
    }
   ],
   "source": [
    "# Check the feature importance\n",
    "importances = rf.feature_importances_\n",
    "importances\n",
    "\n",
    "[x for x in zip(rf.feature_importances_, X.columns)]"
   ]
  },
  {
   "cell_type": "markdown",
   "metadata": {},
   "source": [
    "### Use the logistic regression model to do the prediction"
   ]
  },
  {
   "cell_type": "code",
   "execution_count": 33,
   "metadata": {
    "scrolled": true
   },
   "outputs": [
    {
     "data": {
      "text/html": [
       "<div>\n",
       "<style scoped>\n",
       "    .dataframe tbody tr th:only-of-type {\n",
       "        vertical-align: middle;\n",
       "    }\n",
       "\n",
       "    .dataframe tbody tr th {\n",
       "        vertical-align: top;\n",
       "    }\n",
       "\n",
       "    .dataframe thead th {\n",
       "        text-align: right;\n",
       "    }\n",
       "</style>\n",
       "<table border=\"1\" class=\"dataframe\">\n",
       "  <thead>\n",
       "    <tr style=\"text-align: right;\">\n",
       "      <th></th>\n",
       "      <th>Prediction</th>\n",
       "      <th>Actual</th>\n",
       "    </tr>\n",
       "  </thead>\n",
       "  <tbody>\n",
       "    <tr>\n",
       "      <th>186</th>\n",
       "      <td>none</td>\n",
       "      <td>none</td>\n",
       "    </tr>\n",
       "    <tr>\n",
       "      <th>155</th>\n",
       "      <td>none</td>\n",
       "      <td>none</td>\n",
       "    </tr>\n",
       "    <tr>\n",
       "      <th>165</th>\n",
       "      <td>none</td>\n",
       "      <td>none</td>\n",
       "    </tr>\n",
       "    <tr>\n",
       "      <th>200</th>\n",
       "      <td>none</td>\n",
       "      <td>none</td>\n",
       "    </tr>\n",
       "    <tr>\n",
       "      <th>58</th>\n",
       "      <td>none</td>\n",
       "      <td>regular ward</td>\n",
       "    </tr>\n",
       "    <tr>\n",
       "      <th>34</th>\n",
       "      <td>none</td>\n",
       "      <td>regular ward</td>\n",
       "    </tr>\n",
       "    <tr>\n",
       "      <th>151</th>\n",
       "      <td>none</td>\n",
       "      <td>none</td>\n",
       "    </tr>\n",
       "    <tr>\n",
       "      <th>18</th>\n",
       "      <td>none</td>\n",
       "      <td>intensive care</td>\n",
       "    </tr>\n",
       "    <tr>\n",
       "      <th>202</th>\n",
       "      <td>none</td>\n",
       "      <td>none</td>\n",
       "    </tr>\n",
       "    <tr>\n",
       "      <th>62</th>\n",
       "      <td>none</td>\n",
       "      <td>none</td>\n",
       "    </tr>\n",
       "    <tr>\n",
       "      <th>4</th>\n",
       "      <td>none</td>\n",
       "      <td>intensive care</td>\n",
       "    </tr>\n",
       "    <tr>\n",
       "      <th>47</th>\n",
       "      <td>none</td>\n",
       "      <td>regular ward</td>\n",
       "    </tr>\n",
       "    <tr>\n",
       "      <th>110</th>\n",
       "      <td>none</td>\n",
       "      <td>none</td>\n",
       "    </tr>\n",
       "    <tr>\n",
       "      <th>206</th>\n",
       "      <td>none</td>\n",
       "      <td>none</td>\n",
       "    </tr>\n",
       "    <tr>\n",
       "      <th>105</th>\n",
       "      <td>none</td>\n",
       "      <td>none</td>\n",
       "    </tr>\n",
       "    <tr>\n",
       "      <th>172</th>\n",
       "      <td>none</td>\n",
       "      <td>none</td>\n",
       "    </tr>\n",
       "    <tr>\n",
       "      <th>31</th>\n",
       "      <td>none</td>\n",
       "      <td>intensive care</td>\n",
       "    </tr>\n",
       "    <tr>\n",
       "      <th>198</th>\n",
       "      <td>none</td>\n",
       "      <td>none</td>\n",
       "    </tr>\n",
       "    <tr>\n",
       "      <th>33</th>\n",
       "      <td>none</td>\n",
       "      <td>intensive care</td>\n",
       "    </tr>\n",
       "    <tr>\n",
       "      <th>40</th>\n",
       "      <td>none</td>\n",
       "      <td>regular ward</td>\n",
       "    </tr>\n",
       "    <tr>\n",
       "      <th>175</th>\n",
       "      <td>none</td>\n",
       "      <td>none</td>\n",
       "    </tr>\n",
       "    <tr>\n",
       "      <th>59</th>\n",
       "      <td>none</td>\n",
       "      <td>regular ward</td>\n",
       "    </tr>\n",
       "    <tr>\n",
       "      <th>29</th>\n",
       "      <td>none</td>\n",
       "      <td>intensive care</td>\n",
       "    </tr>\n",
       "    <tr>\n",
       "      <th>11</th>\n",
       "      <td>none</td>\n",
       "      <td>intensive care</td>\n",
       "    </tr>\n",
       "    <tr>\n",
       "      <th>124</th>\n",
       "      <td>none</td>\n",
       "      <td>none</td>\n",
       "    </tr>\n",
       "    <tr>\n",
       "      <th>147</th>\n",
       "      <td>none</td>\n",
       "      <td>none</td>\n",
       "    </tr>\n",
       "    <tr>\n",
       "      <th>35</th>\n",
       "      <td>none</td>\n",
       "      <td>regular ward</td>\n",
       "    </tr>\n",
       "    <tr>\n",
       "      <th>44</th>\n",
       "      <td>none</td>\n",
       "      <td>regular ward</td>\n",
       "    </tr>\n",
       "    <tr>\n",
       "      <th>51</th>\n",
       "      <td>none</td>\n",
       "      <td>regular ward</td>\n",
       "    </tr>\n",
       "    <tr>\n",
       "      <th>171</th>\n",
       "      <td>none</td>\n",
       "      <td>none</td>\n",
       "    </tr>\n",
       "    <tr>\n",
       "      <th>153</th>\n",
       "      <td>none</td>\n",
       "      <td>none</td>\n",
       "    </tr>\n",
       "    <tr>\n",
       "      <th>183</th>\n",
       "      <td>none</td>\n",
       "      <td>none</td>\n",
       "    </tr>\n",
       "    <tr>\n",
       "      <th>28</th>\n",
       "      <td>none</td>\n",
       "      <td>intensive care</td>\n",
       "    </tr>\n",
       "    <tr>\n",
       "      <th>16</th>\n",
       "      <td>none</td>\n",
       "      <td>intensive care</td>\n",
       "    </tr>\n",
       "    <tr>\n",
       "      <th>94</th>\n",
       "      <td>none</td>\n",
       "      <td>none</td>\n",
       "    </tr>\n",
       "    <tr>\n",
       "      <th>78</th>\n",
       "      <td>none</td>\n",
       "      <td>none</td>\n",
       "    </tr>\n",
       "    <tr>\n",
       "      <th>38</th>\n",
       "      <td>none</td>\n",
       "      <td>regular ward</td>\n",
       "    </tr>\n",
       "    <tr>\n",
       "      <th>27</th>\n",
       "      <td>intensive care</td>\n",
       "      <td>intensive care</td>\n",
       "    </tr>\n",
       "    <tr>\n",
       "      <th>69</th>\n",
       "      <td>none</td>\n",
       "      <td>none</td>\n",
       "    </tr>\n",
       "    <tr>\n",
       "      <th>119</th>\n",
       "      <td>none</td>\n",
       "      <td>none</td>\n",
       "    </tr>\n",
       "    <tr>\n",
       "      <th>207</th>\n",
       "      <td>intensive care</td>\n",
       "      <td>none</td>\n",
       "    </tr>\n",
       "    <tr>\n",
       "      <th>191</th>\n",
       "      <td>none</td>\n",
       "      <td>none</td>\n",
       "    </tr>\n",
       "    <tr>\n",
       "      <th>73</th>\n",
       "      <td>none</td>\n",
       "      <td>none</td>\n",
       "    </tr>\n",
       "    <tr>\n",
       "      <th>166</th>\n",
       "      <td>none</td>\n",
       "      <td>none</td>\n",
       "    </tr>\n",
       "    <tr>\n",
       "      <th>138</th>\n",
       "      <td>none</td>\n",
       "      <td>none</td>\n",
       "    </tr>\n",
       "    <tr>\n",
       "      <th>199</th>\n",
       "      <td>none</td>\n",
       "      <td>none</td>\n",
       "    </tr>\n",
       "    <tr>\n",
       "      <th>84</th>\n",
       "      <td>none</td>\n",
       "      <td>none</td>\n",
       "    </tr>\n",
       "    <tr>\n",
       "      <th>90</th>\n",
       "      <td>none</td>\n",
       "      <td>none</td>\n",
       "    </tr>\n",
       "    <tr>\n",
       "      <th>123</th>\n",
       "      <td>none</td>\n",
       "      <td>none</td>\n",
       "    </tr>\n",
       "    <tr>\n",
       "      <th>169</th>\n",
       "      <td>none</td>\n",
       "      <td>none</td>\n",
       "    </tr>\n",
       "    <tr>\n",
       "      <th>107</th>\n",
       "      <td>none</td>\n",
       "      <td>none</td>\n",
       "    </tr>\n",
       "    <tr>\n",
       "      <th>201</th>\n",
       "      <td>none</td>\n",
       "      <td>none</td>\n",
       "    </tr>\n",
       "  </tbody>\n",
       "</table>\n",
       "</div>"
      ],
      "text/plain": [
       "         Prediction          Actual\n",
       "186            none            none\n",
       "155            none            none\n",
       "165            none            none\n",
       "200            none            none\n",
       "58             none    regular ward\n",
       "34             none    regular ward\n",
       "151            none            none\n",
       "18             none  intensive care\n",
       "202            none            none\n",
       "62             none            none\n",
       "4              none  intensive care\n",
       "47             none    regular ward\n",
       "110            none            none\n",
       "206            none            none\n",
       "105            none            none\n",
       "172            none            none\n",
       "31             none  intensive care\n",
       "198            none            none\n",
       "33             none  intensive care\n",
       "40             none    regular ward\n",
       "175            none            none\n",
       "59             none    regular ward\n",
       "29             none  intensive care\n",
       "11             none  intensive care\n",
       "124            none            none\n",
       "147            none            none\n",
       "35             none    regular ward\n",
       "44             none    regular ward\n",
       "51             none    regular ward\n",
       "171            none            none\n",
       "153            none            none\n",
       "183            none            none\n",
       "28             none  intensive care\n",
       "16             none  intensive care\n",
       "94             none            none\n",
       "78             none            none\n",
       "38             none    regular ward\n",
       "27   intensive care  intensive care\n",
       "69             none            none\n",
       "119            none            none\n",
       "207  intensive care            none\n",
       "191            none            none\n",
       "73             none            none\n",
       "166            none            none\n",
       "138            none            none\n",
       "199            none            none\n",
       "84             none            none\n",
       "90             none            none\n",
       "123            none            none\n",
       "169            none            none\n",
       "107            none            none\n",
       "201            none            none"
      ]
     },
     "execution_count": 33,
     "metadata": {},
     "output_type": "execute_result"
    }
   ],
   "source": [
    "# Check the prediction results of the model\n",
    "predictions = classifier.predict(X_test)\n",
    "pd.DataFrame({\"Prediction\": predictions, \"Actual\": y_test})"
   ]
  },
  {
   "cell_type": "code",
   "execution_count": 37,
   "metadata": {},
   "outputs": [],
   "source": [
    "class_names = [\"none\", \"regular ward\", \"intensive care\"]"
   ]
  },
  {
   "cell_type": "markdown",
   "metadata": {},
   "source": [
    "### Plot confusion matrix"
   ]
  },
  {
   "cell_type": "code",
   "execution_count": 49,
   "metadata": {},
   "outputs": [
    {
     "name": "stdout",
     "output_type": "stream",
     "text": [
      "Non-normalized Confusion Matrix\n",
      "[[ 1  8  0]\n",
      " [ 1 33  0]\n",
      " [ 0  9  0]]\n"
     ]
    },
    {
     "data": {
      "image/png": "[encoded data removed]",
      "text/plain": [
       "<Figure size 432x288 with 2 Axes>"
      ]
     },
     "metadata": {
      "needs_background": "light"
     },
     "output_type": "display_data"
    }
   ],
   "source": [
    "disp = plot_confusion_matrix(classifier, X_test, y_test,\n",
    "                                 display_labels=class_names,\n",
    "                                 cmap=plt.cm.Blues)\n",
    "disp.ax_.set_title(\"Non-normalized Confusion Matrix\")\n",
    "\n",
    "print(\"Non-normalized Confusion Matrix\")\n",
    "print(disp.confusion_matrix)\n",
    "\n",
    "plt.show()"
   ]
  },
  {
   "cell_type": "code",
   "execution_count": null,
   "metadata": {},
   "outputs": [],
   "source": []
  }
 ],
 "metadata": {
  "kernelspec": {
   "display_name": "Python 3",
   "language": "python",
   "name": "python3"
  },
  "language_info": {
   "codemirror_mode": {
    "name": "ipython",
    "version": 3
   },
   "file_extension": ".py",
   "mimetype": "text/x-python",
   "name": "python",
   "nbconvert_exporter": "python",
   "pygments_lexer": "ipython3",
   "version": "3.7.7"
  }
 },
 "nbformat": 4,
 "nbformat_minor": 4
}
